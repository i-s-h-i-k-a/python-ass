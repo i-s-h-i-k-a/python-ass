{
  "nbformat": 4,
  "nbformat_minor": 0,
  "metadata": {
    "colab": {
      "provenance": [],
      "authorship_tag": "ABX9TyNjU4b5h5+yddGtgTD0USEs",
      "include_colab_link": true
    },
    "kernelspec": {
      "name": "python3",
      "display_name": "Python 3"
    },
    "language_info": {
      "name": "python"
    }
  },
  "cells": [
    {
      "cell_type": "markdown",
      "metadata": {
        "id": "view-in-github",
        "colab_type": "text"
      },
      "source": [
        "<a href=\"https://colab.research.google.com/github/i-s-h-i-k-a/python-ass/blob/main/Copy_of_Copy_of_Untitled0.ipynb\" target=\"_parent\"><img src=\"https://colab.research.google.com/assets/colab-badge.svg\" alt=\"Open In Colab\"/></a>"
      ]
    },
    {
      "cell_type": "code",
      "execution_count": null,
      "metadata": {
        "id": "BwJ9ZsQNhv5c",
        "colab": {
          "base_uri": "https://localhost:8080/"
        },
        "outputId": "6cec1209-858c-45da-f3d6-fd735939b2d3"
      },
      "outputs": [
        {
          "output_type": "stream",
          "name": "stdout",
          "text": [
            "enter a no:9\n",
            "enter a no:5\n",
            "addition is 14\n",
            "substraction is 4\n",
            "multiplication is 45\n",
            "division is 1.8\n"
          ]
        }
      ],
      "source": [
        "# 1.arithmetic operator\n",
        "a=int(input(\"enter a no:\"))\n",
        "b=int(input(\"enter a no:\"))\n",
        "print(\"addition is\",a+b)\n",
        "print(\"substraction is\",a-b)\n",
        "print(\"multiplication is\",a*b)\n",
        "print(\"division is\",a/b)\n"
      ]
    },
    {
      "cell_type": "code",
      "source": [
        "# 2.num is even or odd\n",
        "a= int(input(\"enter a no:\"))\n",
        "if(a%2==0):\n",
        "  print(\"no is even\")\n",
        "else:\n",
        "  print(\"no is odd\")  \n"
      ],
      "metadata": {
        "id": "jtbsYbuB17Sx"
      },
      "execution_count": null,
      "outputs": []
    },
    {
      "cell_type": "code",
      "source": [
        "# 3.1 greater of 2 nos\n",
        "a=int(input(\"enter a no:\"))\n",
        "b=int(input(\"enter a no:\"))\n",
        "if(a>b):\n",
        "  print(\"a is greater\")\n",
        "else:\n",
        "  print(\"b is greater\") \n"
      ],
      "metadata": {
        "id": "TsZNHnIm2KxC"
      },
      "execution_count": null,
      "outputs": []
    },
    {
      "cell_type": "code",
      "source": [
        "#3.2 greater of 3 nos\n",
        "a=int(input(\"enter a :\"))\n",
        "b=int(input(\"enter b:\"))\n",
        "c=int(input(\"enter c:\"))\n",
        "if(a>b):\n",
        "  if(a>c):\n",
        "   print(\"a is greater\")\n",
        "  else:\n",
        "    print(\"c is greater\") \n",
        "else:\n",
        "    if(b>c):\n",
        "      print(\"b is greater\")\n",
        "    else:\n",
        "      print(\"c is greater\") \n"
      ],
      "metadata": {
        "id": "5F3GSoe32Zr8"
      },
      "execution_count": null,
      "outputs": []
    },
    {
      "cell_type": "code",
      "source": [],
      "metadata": {
        "id": "zdMvDgZEArS0"
      },
      "execution_count": null,
      "outputs": []
    },
    {
      "cell_type": "code",
      "source": [
        "#4.num is prime or composite\n",
        "a=int(input(\"enter a no:\"))\n",
        "c=int(a/2)\n",
        "if(a==1):\n",
        "  print(\"it is neither prime, nor composite\")\n",
        "elif(a==2):\n",
        "  print(\"It is prime no.\")\n",
        "elif(a%2==0):\n",
        "  print(\"It is composite no.\")  \n",
        "else:\n",
        "       \n",
        "        is_prime = True\n",
        "        for i in range(3, int(a*0.5)+1, 2):\n",
        "            if a % i == 0:\n",
        "                is_prime = False\n",
        "                break\n",
        "        if is_prime:\n",
        "            print(\"It is a prime number\")\n",
        "        else:\n",
        "            print(\"It is a composite number\")"
      ],
      "metadata": {
        "id": "tp_tU86e2iwx"
      },
      "execution_count": null,
      "outputs": []
    },
    {
      "cell_type": "code",
      "source": [
        "# 5.all odd num between a range\n",
        "a=int(input(\"Enter the smaller no. \"))\n",
        "b=int(input(\"Enter the larger no. \"))\n",
        "\n",
        "print(\"even numbers are\")\n",
        "for i in range(a,b):\n",
        "  if(i%2==0):\n",
        "    print(i)\n",
        "\n",
        "print(\"odd numbers are\")    \n",
        "for i in range(a,b):\n",
        "  if(i%2!=0):\n",
        "    print(i)\n"
      ],
      "metadata": {
        "id": "PyeVQqTi90Ih"
      },
      "execution_count": null,
      "outputs": []
    },
    {
      "cell_type": "code",
      "source": [
        "#6.all prime num between range\n",
        "start=int(input(\"Enter the start\"))\n",
        "end=int(input(\"Enter the end\"))\n",
        "\n",
        "def is_prime(n):\n",
        "    if n <= 1:\n",
        "        return False\n",
        "    for i in range(2, int(n**0.5)+1):\n",
        "        if n % i == 0:\n",
        "            return False\n",
        "    return True\n",
        "for i in range(start, end+1):\n",
        "    if is_prime(i):\n",
        "        print(i)\n"
      ],
      "metadata": {
        "id": "ATZoHacU-NXQ"
      },
      "execution_count": null,
      "outputs": []
    },
    {
      "cell_type": "code",
      "source": [
        "#7.reverse a num\n",
        "n = int(input(\"Enter a number: \"))\n",
        "rev = 0\n",
        "while n > 0:\n",
        "    digit = n % 10\n",
        "    rev = rev * 10 + digit\n",
        "    n = n // 10\n",
        "\n",
        "print(\"The reversed number is:\", rev)\n"
      ],
      "metadata": {
        "id": "DDfPHZUw_5ti"
      },
      "execution_count": null,
      "outputs": []
    },
    {
      "cell_type": "code",
      "source": [
        "#8.num is palindrome or not\n",
        "n = int(input(\"Enter a number: \"))\n",
        "a=n\n",
        "rev = 0\n",
        "while n > 0:\n",
        "    digit = n % 10\n",
        "    rev = rev * 10 + digit\n",
        "    n = n // 10\n",
        "\n",
        "\n",
        "\n",
        "if(a==rev):\n",
        "  print(\"It is a palindrome\")\n",
        "else:\n",
        "  \n",
        "  print(\"It is not a palindrome\")"
      ],
      "metadata": {
        "id": "i4TZnNKvAFtd"
      },
      "execution_count": null,
      "outputs": []
    },
    {
      "cell_type": "code",
      "source": [
        "#9.num is armstrong or not\n",
        "a=int(input())\n",
        "z=a\n",
        "x=0\n",
        "y=0\n",
        "while(a>0):\n",
        "     w=a%10\n",
        "     x+=w**3\n",
        "     a=a//10\n",
        "if(x==z):\n",
        "    print(\"it is armstrong no.\")\n",
        "else:\n",
        "    print(\" it is not armstrong no.\")"
      ],
      "metadata": {
        "id": "798WO1frAtr2"
      },
      "execution_count": null,
      "outputs": []
    },
    {
      "cell_type": "code",
      "source": [
        "#10.all armstrong no between range\n",
        "a=int(input())\n",
        "\n",
        "\n",
        "for i in range(1,a+1):\n",
        "    order=len(str(i))\n",
        "    x=0\n",
        "    y=i\n",
        "    while(y>0):\n",
        "        z=y%10\n",
        "        x+=z**order\n",
        "        y=y//10\n",
        "    if(x==i):\n",
        "        print(i)"
      ],
      "metadata": {
        "id": "7JYqCFApA45u"
      },
      "execution_count": null,
      "outputs": []
    },
    {
      "cell_type": "code",
      "source": [
        "#11.sum of first n natural no\n",
        "n = int(input(\"Enter the value of n: \"))\n",
        "for i in range(1, n+1):\n",
        "    print(i)"
      ],
      "metadata": {
        "id": "Gf0cAhxfBHfI"
      },
      "execution_count": null,
      "outputs": []
    },
    {
      "cell_type": "code",
      "source": [
        "#12.factorial of a num\n",
        "x=int(input())\n",
        "ans=1\n",
        "while(x>0):\n",
        "    ans*=x\n",
        "    x=x-1\n",
        "print(ans)"
      ],
      "metadata": {
        "id": "uaF7n2GbBRcx"
      },
      "execution_count": null,
      "outputs": []
    },
    {
      "cell_type": "code",
      "source": [
        "#13.factorial series upto n terms\n",
        "n=int(input())\n",
        "x=1\n",
        "y=1\n",
        "print(x)\n",
        "print👍\n",
        "\n",
        "i=2\n",
        "\n",
        "while(i<n):\n",
        "    z=x+y\n",
        "    print(z)\n",
        "    x=y\n",
        "    y=z\n",
        "    i=i+1"
      ],
      "metadata": {
        "id": "9x0no6P7CX9A"
      },
      "execution_count": null,
      "outputs": []
    },
    {
      "cell_type": "code",
      "source": [
        "#14.leap yr\n",
        "a= int(input(\"Enter a year: \"))\n",
        "if (a%4==0 and a%100!=0):\n",
        "    print(\"is a leap year\")\n",
        "else:\n",
        "    print(\"is not a leap year\")"
      ],
      "metadata": {
        "id": "Ws-V3cwkCoaP"
      },
      "execution_count": null,
      "outputs": []
    },
    {
      "cell_type": "code",
      "source": [
        "#15.print temp in c/f and vice versa\n",
        "def celsius_to_fahrenheit(celsius):\n",
        "    fahrenheit = (celsius * 9/5) + 32\n",
        "    return fahrenheit\n",
        "\n",
        "def fahrenheit_to_celsius(fahrenheit):\n",
        "    celsius = (fahrenheit - 32) * 5/9\n",
        "    return celsius\n",
        "\n",
        "temp = float(input(\"Enter the temperature: \"))\n",
        "unit = input(\"Enter the temperature unit (C or F): \")\n",
        "\n",
        "if unit == 'C':\n",
        "    fahrenheit = celsius_to_fahrenheit(temp)\n",
        "    print(temp, \"Celsius = \", fahrenheit, \"Fahrenheit\")\n",
        "elif unit == 'F':\n",
        "    celsius = fahrenheit_to_celsius(temp)\n",
        "    print(temp, \"Fahrenheit = \", celsius, \"Celsius\")"
      ],
      "metadata": {
        "id": "wS_OM089C2cI"
      },
      "execution_count": null,
      "outputs": []
    },
    {
      "cell_type": "code",
      "source": [
        "#16. print all factor of a num using function\n",
        "num = int(input(\"Enter a number: \"))\n",
        "\n",
        "for i in range(1, num+1):\n",
        "    if num % i == 0:\n",
        "        print(i)"
      ],
      "metadata": {
        "id": "s3FzumXSDCuN"
      },
      "execution_count": null,
      "outputs": []
    },
    {
      "cell_type": "code",
      "source": [
        "#17.convert decimal to binary,octal,hexadecimal \n",
        "dec = int(input(\"Enter a decimal number: \"))\n",
        "binary = bin(dec)\n",
        "octal = oct(dec)\n",
        "hexadecimal = hex(dec)\n",
        "print(\"Decimal number:\", dec)\n",
        "print(\"Binary equivalent:\", binary)\n",
        "print(\"Octal equivalent:\", octal)\n",
        "print(\"Hexadecimal equivalent:\", hexadecimal)"
      ],
      "metadata": {
        "id": "TA5e7CpwEq6q"
      },
      "execution_count": null,
      "outputs": []
    },
    {
      "cell_type": "code",
      "source": [
        "#18.find factorial using function\n",
        "def factorial(num):\n",
        "    if num == 0:\n",
        "        return 1\n",
        "    else:\n",
        "        return num * factorial(num-1)\n",
        "num = int(input(\"Enter a number: \"))\n",
        "fact = factorial(num)\n",
        "print(fact)"
      ],
      "metadata": {
        "id": "40kFAbRFE5ak"
      },
      "execution_count": null,
      "outputs": []
    },
    {
      "cell_type": "code",
      "source": [
        "#19.fibonaci series using recursion\n",
        "def func(n):\n",
        "    if(n<=1):\n",
        "        return n\n",
        "         \n",
        "    else:\n",
        "        return (func(n-1)+func(n-2))\n",
        "\n",
        "n=int(input())\n",
        "for i in range(1,n):\n",
        "       print(func(i))"
      ],
      "metadata": {
        "id": "EPDrb8txFFl2"
      },
      "execution_count": null,
      "outputs": []
    },
    {
      "cell_type": "code",
      "source": [
        "#20. factorial num using recursion\n",
        "def fact(n):\n",
        "    if n==1:\n",
        "        return 1\n",
        "    else:\n",
        "        return n*fact(n-1)\n",
        "\n",
        "a=int(input())\n",
        "z=fact(a)\n",
        "print(z)"
      ],
      "metadata": {
        "id": "mfIAQgtQFTtF"
      },
      "execution_count": null,
      "outputs": []
    },
    {
      "cell_type": "code",
      "source": [
        "#21. sum of n natural num using recursion\n",
        "def sumTillRange(n):\n",
        "    if n == 1:\n",
        "        return 1\n",
        "    else:\n",
        "        return n + sumTillRange(n-1)\n",
        "n = int(input(\"Enter a positive integer: \"))\n",
        "sum = sumTillRange👎\n",
        "print(sum)"
      ],
      "metadata": {
        "id": "HMNQfyvHFdwo"
      },
      "execution_count": null,
      "outputs": []
    },
    {
      "cell_type": "code",
      "source": [
        "#22.convert decimal to binary using num\n",
        "def convert(num):\n",
        "    if num > 1:\n",
        "        convert(num // 2)\n",
        "    print(num % 2, end='')\n",
        "dec = int(input(\"Enter a decimal number: \"))\n",
        "convert(dec)"
      ],
      "metadata": {
        "id": "yFLjX7hxFtRT"
      },
      "execution_count": null,
      "outputs": []
    },
    {
      "cell_type": "code",
      "source": [
        "#23.pwr of 2 using anynomous fun\n",
        "y=int(input())\n",
        "x=lambda a:a**2\n",
        "print(x(y))"
      ],
      "metadata": {
        "id": "EvtvFr2uF2mZ"
      },
      "execution_count": null,
      "outputs": []
    },
    {
      "cell_type": "code",
      "source": [
        "#24.area of triangle,circle,cylinder using lambda fun\n",
        "x=lambda r:3.14*r**2\n",
        "y=lambda b,h:0.5*b*h\n",
        "z=lambda r,h:3.14*r*r*h\n",
        "\n",
        "a=int(input(\"enter radius:\"))\n",
        "print(\"area of circle is\",x(a))\n",
        "\n",
        "b=int(input(\"enter base:\"))\n",
        "h=int(input(\"enter height:\"))\n",
        "print(\"area of triangle:\",y(b,h))\n",
        "\n",
        "c=int(input(\"enter radius:\"))\n",
        "h=int(input(\"enter height:\"))\n",
        "print(\"volume of cylinder\",z(c,h))"
      ],
      "metadata": {
        "id": "JXzcy-O7KPUF"
      },
      "execution_count": null,
      "outputs": []
    },
    {
      "cell_type": "code",
      "source": [
        "#25.add 2 matrix\n",
        "a= [[1,2,3],\n",
        "    [4,5,6],\n",
        "    [6,7,8]]\n",
        "    \n",
        "b= [[1,2,3],\n",
        "    [4,5,6],\n",
        "    [6,7,71]]    \n",
        "\n",
        "result = [[0,0,0],\n",
        "          [0,0,0],\n",
        "          [0,0,0]]\n",
        "n\n",
        "def matrix (x,y):\n",
        "  for i in range(len(a)):\n",
        "    for j in range(len(a[0])):\n",
        "      result[i][j]= a[i][j] + b[i][j]\n",
        "  for r in result:  \n",
        "    print (r)\n",
        "matrix(a,b)"
      ],
      "metadata": {
        "id": "cHVXvxZgKes0"
      },
      "execution_count": null,
      "outputs": []
    },
    {
      "cell_type": "code",
      "source": [
        "#26.multiply 2 matrix\n",
        "a= [[1,2,3],\n",
        "    [4,5,6],\n",
        "    [6,7,8]]\n",
        "    \n",
        "b= [[1,2,3],\n",
        "    [4,5,6],\n",
        "    [6,7,71]]    \n",
        "\n",
        "result = [[0,0,0],\n",
        "          [0,0,0],\n",
        "          [0,0,0]]\n",
        "n\n",
        "def matrix (x,y):\n",
        "  for i in range(len(a)):\n",
        "    for j in range(len(a[0])):\n",
        "      result[i][j]= a[i][j] * b[i][j]\n",
        "  for r in result:  \n",
        "    print (r)\n",
        "matrix(a,b)\n"
      ],
      "metadata": {
        "id": "nhBOgoXxKnGR"
      },
      "execution_count": null,
      "outputs": []
    },
    {
      "cell_type": "code",
      "source": [
        "#27.transpose a matrix\n",
        "matrix= [[1,2,3],\n",
        "    [4,5,6],\n",
        "    [6,7,8]]\n",
        "transpose = [[0,0,0],\n",
        "            [0,0,0],\n",
        "            [0,0,0]]\n",
        "for i in range(3):\n",
        "    for j in range(3):\n",
        "        transpose[i][j] = matrix[j][i]\n",
        "print(\"Transpose of the matrix:\")\n",
        "for row in transpose:\n",
        "    print(row)"
      ],
      "metadata": {
        "id": "lbFnU5yHLRTX"
      },
      "execution_count": null,
      "outputs": []
    },
    {
      "cell_type": "code",
      "source": [
        "#28.avg of a numeric list\n",
        "n = int(input(\"Enter the number of values: \"))\n",
        "values = []\n",
        "for i in range(n):\n",
        "    values.append(float(input(\"Enter a value: \")))\n",
        "average = sum(values) / n\n",
        "print(\"The average of the values is:\", average)"
      ],
      "metadata": {
        "id": "iLkggGA9LiUU"
      },
      "execution_count": null,
      "outputs": []
    },
    {
      "cell_type": "code",
      "source": [
        "#29.access members of list using diff variations of slice operation\n",
        "x=list(range(1,11))\n",
        "y=slice(4)\n",
        "print(x[y])\n",
        "\n",
        "z=slice(2,6)\n",
        "print(x[z])"
      ],
      "metadata": {
        "id": "ZOPFKwr-LuOb"
      },
      "execution_count": null,
      "outputs": []
    },
    {
      "cell_type": "code",
      "source": [
        "#30.concate 2 lists\n",
        "a=[1,2,3,4,5,6,7]\n",
        "b=[9,10,12,13,14]\n",
        "c=a+b\n",
        "print(c)"
      ],
      "metadata": {
        "id": "XPoD42F8L9G2"
      },
      "execution_count": null,
      "outputs": []
    },
    {
      "cell_type": "code",
      "source": [
        "#31.find index of a element and print its occurences\n",
        "lst = [1,2,3,4,4,5,6,7,8,9,1,2,3,4,6,7,9,2,4,3,6,5,8,9,1,2,4,3,4,5]\n",
        "element = int(input(\"Enter the specific element to search for: \"))\n",
        "index = []\n",
        "count = 0\n",
        "for i in range(29):\n",
        "    if lst[i] == element:\n",
        "        index.append(i)\n",
        "        count += 1\n",
        "if count > 0:\n",
        "    print(\"The element\", element, \"is found at index(es):\", index)\n",
        "    print(\"The element\", element, \"occurs\", count, \"time(s) in the list.\")\n",
        "else:\n",
        "    print(\"The element\", element, \"is not found in the list.\")"
      ],
      "metadata": {
        "id": "DYW3h07kMH8C"
      },
      "execution_count": null,
      "outputs": []
    },
    {
      "cell_type": "code",
      "source": [
        "#32.identify duplicate in list\n",
        "lst = [1,2,3,4,4,6,5,8,9,1,2,4,3,4,5]\n",
        "element = 0\n",
        "index = []\n",
        "count = 0\n",
        "for j in range(15):\n",
        "  element = lst[j]\n",
        "  for i in range(15):\n",
        "    if lst[i] == element:\n",
        "        index.append(i)\n",
        "        count += 1\n",
        "  if count > 0:\n",
        "    print(\"The element\", element, \"is found at index(es):\", index)\n",
        "    print(\"The element\", element, \"occurs\", count, \"time(s) in the list.\")\n",
        "  else:\n",
        "    print(\"The element\", element, \"is not found in the list.\")"
      ],
      "metadata": {
        "id": "YJ92wQIrMXvh"
      },
      "execution_count": null,
      "outputs": []
    },
    {
      "cell_type": "code",
      "source": [
        "#33.iterate over dict using for loop\n",
        "thisdict =\t{\n",
        "  \"brand\": \"Ford\",\n",
        "  \"model\": \"Mustang\",\n",
        "  \"year\": 1964\n",
        "}\n",
        "for x in thisdict.values():\n",
        "  print(x)\n",
        "for x in thisdict.keys():\n",
        "  print(x)"
      ],
      "metadata": {
        "id": "Ba3TycNOMifw"
      },
      "execution_count": null,
      "outputs": []
    },
    {
      "cell_type": "code",
      "source": [
        "#34.iterate nested dict \n",
        "child1 = {\n",
        "  \"name\" : \"Emil\",\n",
        "  \"year\" : 2004\n",
        "}\n",
        "child2 = {\n",
        "  \"name\" : \"Tobias\",\n",
        "  \"year\" : 2007\n",
        "}\n",
        "child3 = {\n",
        "  \"name\" : \"Linus\",\n",
        "  \"year\" : 2011\n",
        "}\n",
        "\n",
        "myfamily = {\n",
        "  \"child1\" : child1,\n",
        "  \"child2\" : child2,\n",
        "  \"child3\" : child3\n",
        "}\n",
        "\n",
        "print(myfamily) "
      ],
      "metadata": {
        "id": "2lwL_OZxcSX-"
      },
      "execution_count": null,
      "outputs": []
    },
    {
      "cell_type": "code",
      "source": [
        "#35 sort dict\n",
        "dictionary = {\n",
        "  \"child1\" : {\n",
        "    \"name\" : \"Emil\",\n",
        "    \"year\" : 2004\n",
        "  },\n",
        "  \"child3\" : {\n",
        "    \"name\" : \"Tobias\",\n",
        "    \"year\" : 2007\n",
        "  },\n",
        "  \"child2\" : {\n",
        "    \"name\" : \"Linus\",\n",
        "    \"year\" : 2011\n",
        "  }\n",
        "}\n",
        "sorted_keys = sorted(dictionary.keys())\n",
        "sorted_dict = {key:dictionary[key] for key in sorted_keys}\n",
        "print(sorted_dict)\n",
        "\n",
        "print(sorted(dictionary.items))\n"
      ],
      "metadata": {
        "id": "4VEM4oiGconS"
      },
      "execution_count": null,
      "outputs": []
    }
  ]
}